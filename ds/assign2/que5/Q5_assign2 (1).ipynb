{
  "nbformat": 4,
  "nbformat_minor": 0,
  "metadata": {
    "colab": {
      "name": "Q5_assign2",
      "provenance": [],
      "collapsed_sections": []
    },
    "kernelspec": {
      "display_name": "Python 3",
      "name": "python3"
    },
    "language_info": {
      "name": "python"
    }
  },
  "cells": [
    {
      "cell_type": "code",
      "metadata": {
        "id": "vY41BHiiKvdm"
      },
      "source": [
        "from urllib.request import urlretrieve\n",
        "import zipfile\n",
        "import numpy as np\n",
        "import csv\n",
        "import matplotlib.pyplot as plt\n",
        "from sklearn.linear_model import LinearRegression as LR"
      ],
      "execution_count": null,
      "outputs": []
    },
    {
      "cell_type": "markdown",
      "metadata": {
        "id": "jsx6ywaPa01j"
      },
      "source": [
        "Getting the dataset"
      ]
    },
    {
      "cell_type": "code",
      "metadata": {
        "id": "pcK9m83ONijJ"
      },
      "source": [
        "urlretrieve(\"http://files.grouplens.org/datasets/movielens/ml-100k.zip\", \"movielens.zip\")\n",
        "zip_ref = zipfile.ZipFile('movielens.zip', \"r\")\n",
        "zip_ref.extractall()"
      ],
      "execution_count": null,
      "outputs": []
    },
    {
      "cell_type": "markdown",
      "metadata": {
        "id": "kfYopu6sa7nr"
      },
      "source": [
        "Information about the dataset"
      ]
    },
    {
      "cell_type": "code",
      "metadata": {
        "colab": {
          "base_uri": "https://localhost:8080/"
        },
        "id": "rMtP01Idm6Lw",
        "outputId": "a362b604-f520-4f4e-a6a1-463348d6819b"
      },
      "source": [
        "info_list = zip_ref.read('ml-100k/u.info').decode('utf-8').split()\n",
        "no_of_reviewers = int(info_list[0])\n",
        "print ('no of reviewers =', no_of_reviewers)\n",
        "no_of_movies = int(info_list[2])\n",
        "print ('no of movies =', no_of_movies)\n",
        "no_of_samples = int(info_list[4]) \n",
        "print ('no of samples =', no_of_samples)"
      ],
      "execution_count": null,
      "outputs": [
        {
          "output_type": "stream",
          "text": [
            "no of reviewers = 943\n",
            "no of movies = 1682\n",
            "no of samples = 100000\n"
          ],
          "name": "stdout"
        }
      ]
    },
    {
      "cell_type": "markdown",
      "metadata": {
        "id": "CXHx9NNqbADa"
      },
      "source": [
        "Forming training set and testing set"
      ]
    },
    {
      "cell_type": "code",
      "metadata": {
        "id": "JAiEVBzHNtZ3"
      },
      "source": [
        "Training_set = np.zeros((no_of_reviewers, no_of_movies))\n",
        "Testing_set = np.zeros((no_of_reviewers, no_of_movies))"
      ],
      "execution_count": null,
      "outputs": []
    },
    {
      "cell_type": "markdown",
      "metadata": {
        "id": "ypjOIN6TbV_Z"
      },
      "source": [
        "Dividing into TRAINING AND TESTING sets"
      ]
    },
    {
      "cell_type": "code",
      "metadata": {
        "id": "Nag1fuS1Nvj9"
      },
      "source": [
        "read_file= csv.reader(open('ml-100k/u.data'))\n",
        "kk = 0\n",
        "training_set1 = []\n",
        "testing_set1=[]\n",
        "k =0\n",
        "for row in read_file:\n",
        "    r = row[0].split('\\t')\n",
        "    ##print (r)\n",
        "    i, j, T = int(r[0]), int(r[1]), int(r[2])\n",
        "    ##print (hello)\n",
        "    ##print (i)\n",
        "    ##print (j)\n",
        "    ##print(r)\n",
        "    if (kk<8000):\n",
        "        ##print ('1')\n",
        "        training_set1.append([i, j, T])\n",
        "        Training_set[i - 1][j - 1] = T\n",
        "        ##print (Training_set)\n",
        "        ##kk += 1\n",
        "    else:\n",
        "        ##print(kk)\n",
        "        Testing_set[i - 1][j - 1] = T\n",
        "        testing_set1.append([i,j, T])\n",
        "        kk += 1"
      ],
      "execution_count": 186,
      "outputs": []
    },
    {
      "cell_type": "markdown",
      "metadata": {
        "id": "Qnz3HPE1boUx"
      },
      "source": [
        "**LOW RANK APPROXIAMTION**"
      ]
    },
    {
      "cell_type": "code",
      "metadata": {
        "id": "v2atL-rKo4HZ"
      },
      "source": [
        "def low_rank_A(matrix,k_val):\n",
        "    ##print (k_val)\n",
        "    u, d, v = np.linalg.svd(matrix, full_matrices=1)\n",
        "    output = np.zeros((len(u), len(v)))\n",
        "    ##print (output)\n",
        "    for k in range(k_val):\n",
        "        ##print(k)\n",
        "        output += d[k] * np.outer(u.T[k], v[k])\n",
        "        ##print (output)\n",
        "    return output"
      ],
      "execution_count": 187,
      "outputs": []
    },
    {
      "cell_type": "code",
      "metadata": {
        "id": "MK6kUX8FA6bR"
      },
      "source": [
        "val = low_rank_A(Training_set, k_val = 10)"
      ],
      "execution_count": 188,
      "outputs": []
    },
    {
      "cell_type": "code",
      "metadata": {
        "id": "0k2ZjyidBL5b",
        "colab": {
          "base_uri": "https://localhost:8080/"
        },
        "outputId": "cec49912-8771-4df1-fb07-f79c0b7d5d07"
      },
      "source": [
        "val[:10]"
      ],
      "execution_count": 189,
      "outputs": [
        {
          "output_type": "execute_result",
          "data": {
            "text/plain": [
              "array([[ 4.25204675e+00,  2.08644700e+00,  1.29105941e+00, ...,\n",
              "        -8.39539471e-03,  1.98410372e-02,  5.78772121e-02],\n",
              "       [ 1.85298728e+00, -1.07304097e-01,  1.63140719e-01, ...,\n",
              "         1.05689177e-02,  2.40161236e-04, -1.41019252e-04],\n",
              "       [-1.16700091e-01, -1.98725527e-02,  9.20469305e-02, ...,\n",
              "         1.96975747e-02, -3.17732077e-03, -1.03339447e-02],\n",
              "       ...,\n",
              "       [ 1.02558324e+00,  1.53129352e+00, -1.34609958e-01, ...,\n",
              "         3.90024109e-05,  2.59707965e-02,  1.51875367e-02],\n",
              "       [ 6.70576397e-01, -8.89016896e-02,  1.71954548e-02, ...,\n",
              "         2.07656091e-03, -8.44700967e-04, -3.48068084e-03],\n",
              "       [ 1.30696317e+00, -2.70326629e-02,  2.90402198e-01, ...,\n",
              "        -1.07558466e-03,  6.96509661e-03,  6.11549947e-03]])"
            ]
          },
          "metadata": {
            "tags": []
          },
          "execution_count": 189
        }
      ]
    },
    {
      "cell_type": "markdown",
      "metadata": {
        "id": "vKov8bUJb3Hm"
      },
      "source": [
        "ERRORS"
      ]
    },
    {
      "cell_type": "code",
      "metadata": {
        "colab": {
          "background_save": true
        },
        "id": "DjE9QqSLkTPd"
      },
      "source": [
        "def e_low_rank(k, Test):\n",
        "  ##print(k)\n",
        "  val = low_rank_A(Training_set, k_val = k)\n",
        "  error = 0\n",
        "  for i, j, T in Test:\n",
        "    ##print (T)\n",
        "    error += (T - val[int(i-1)][int(j-1)])**2\n",
        "  return error"
      ],
      "execution_count": null,
      "outputs": []
    },
    {
      "cell_type": "code",
      "metadata": {
        "id": "BVsC6h2-k14-"
      },
      "source": [
        "error_val = []\n",
        "range_val = list(range(101))\n",
        "for i in range_val:\n",
        "  ##print (i)\n",
        "  error_val.append(e_low_rank(i,testing_set1))"
      ],
      "execution_count": null,
      "outputs": []
    },
    {
      "cell_type": "markdown",
      "metadata": {
        "id": "ULkr8NYXb6Hs"
      },
      "source": [
        "Ploting "
      ]
    },
    {
      "cell_type": "code",
      "metadata": {
        "colab": {
          "base_uri": "https://localhost:8080/",
          "height": 295
        },
        "id": "UtkpcwVjWb2h",
        "outputId": "fe8b392e-0b19-4ade-e3c9-3bf192bd58c7"
      },
      "source": [
        "plt.title ('Low-rank')\n",
        "plt.plot(range_val, error_val)\n",
        "plt.xlabel(\"k\")\n",
        "plt.ylabel(\"Error_low_rank\")\n",
        "plt.show()"
      ],
      "execution_count": null,
      "outputs": [
        {
          "output_type": "display_data",
          "data": {
            "image/png": "[encoded data removed]",
            "text/plain": [
              "<Figure size 432x288 with 1 Axes>"
            ]
          },
          "metadata": {
            "tags": []
          }
        }
      ]
    },
    {
      "cell_type": "code",
      "metadata": {
        "colab": {
          "base_uri": "https://localhost:8080/"
        },
        "id": "0c0FUgxdXqGu",
        "outputId": "21b78652-8046-4500-97a0-b9b445c7dcf0"
      },
      "source": [
        "error_val.index(min(error_val))"
      ],
      "execution_count": null,
      "outputs": [
        {
          "output_type": "execute_result",
          "data": {
            "text/plain": [
              "0"
            ]
          },
          "metadata": {
            "tags": []
          },
          "execution_count": 145
        }
      ]
    },
    {
      "cell_type": "markdown",
      "metadata": {
        "id": "jcqIB6YlYGrD"
      },
      "source": [
        "**Baseline Algorithm**"
      ]
    },
    {
      "cell_type": "code",
      "metadata": {
        "id": "nYxkN1CtYG79"
      },
      "source": [
        "avg_rating = []\n",
        "avg_rt_mov = []\n",
        "avg = []\n",
        "for  i in range(len(Training_set)):\n",
        "  ##print (i)\n",
        "  ##avg.append (sum(Training_set[:,i])/943)\n",
        "  avg_rating.append(sum(Training_set[i])/1682)\n",
        "    \n",
        "for j in range(len(Training_set[0])):\n",
        "  ##print(j)\n",
        "  avg_rt_mov.append(sum(Training_set[:,j])/943)\n",
        "  ##avg.append(sum(Training_set[j])/943)\n",
        "avg_rating,avg_rt_mov = np.array(avg_rating),np.array(avg_rt_mov)"
      ],
      "execution_count": null,
      "outputs": []
    },
    {
      "cell_type": "code",
      "metadata": {
        "colab": {
          "base_uri": "https://localhost:8080/"
        },
        "id": "2Jn3mzYOYZ45",
        "outputId": "28d21811-26c9-4b87-e1ec-c1bd3372818f"
      },
      "source": [
        "temp1 = []\n",
        "temp2 = []\n",
        "##TemP = []\n",
        "for i, j, T in training_set1:\n",
        "  ##print (j)\n",
        "  temp1.append([avg_rating[i-1], avg_rt_mov[j-1]])\n",
        "  ##TemP.append(Training_set[j-1][i-1])\n",
        "  temp2.append(Training_set[i-1][j-1])\n",
        "\n",
        "temp1=np.array(temp1)\n",
        "##print(temp1)\n",
        "temp2=np.array(temp2)\n",
        "\n",
        "liner_reg = LR(fit_intercept=False)\n",
        "liner_reg.fit(temp1,temp2)"
      ],
      "execution_count": null,
      "outputs": [
        {
          "output_type": "execute_result",
          "data": {
            "text/plain": [
              "LinearRegression(copy_X=True, fit_intercept=False, n_jobs=None, normalize=False)"
            ]
          },
          "metadata": {
            "tags": []
          },
          "execution_count": 116
        }
      ]
    },
    {
      "cell_type": "markdown",
      "metadata": {
        "id": "15V_PWyFzwz8"
      },
      "source": [
        "Alpha and beta"
      ]
    },
    {
      "cell_type": "code",
      "metadata": {
        "id": "e7_hQIKgZMB8"
      },
      "source": [
        "a, b = liner_reg.coef_\n",
        "## print(a)\n",
        "## print(b)\n",
        "base=[]\n",
        "base_err = 0\n",
        "for i,j, T in training_set1:\n",
        "  tt1 = a*avg_rating[i-1]\n",
        "  tt2 = b*avg_rt_mov[j-1]\n",
        "  tt = tt1+tt2\n",
        "  ##printf (tt)\n",
        "  base.append([i,j,tt])\n",
        "  base_err += (tt-Training_set[i-1][j-1])**2\n",
        "  ##print (base_err)\n",
        "base=np.array(base)"
      ],
      "execution_count": null,
      "outputs": []
    },
    {
      "cell_type": "code",
      "metadata": {
        "id": "eGVwpOTGZlst"
      },
      "source": [
        "error_val1 = []\n",
        "range_val1 = list(range(101))\n",
        "for i in range_val1:\n",
        "  ##print(i)\n",
        "  error_val1.append(e_low_rank(i, base))"
      ],
      "execution_count": null,
      "outputs": []
    },
    {
      "cell_type": "markdown",
      "metadata": {
        "id": "iINxP3Siz0t-"
      },
      "source": [
        "error"
      ]
    },
    {
      "cell_type": "code",
      "metadata": {
        "colab": {
          "base_uri": "https://localhost:8080/",
          "height": 558
        },
        "id": "V_8pe5zqZvpZ",
        "outputId": "c08a1d5a-cf8f-48a1-dfb1-9dc41d946495"
      },
      "source": [
        "plt.title ('baseline')\n",
        "plt.plot(range_val1, error_val1)\n",
        "plt.xlabel(\"range_val\")\n",
        "plt.ylabel(\"Error_baseline\")\n",
        "plt.show()\n",
        "\n",
        "plt.plot(range_val, error_val, label = \"Opt Error\")\n",
        "plt.xlabel(\"Rank, K\")\n",
        "plt.ylabel(\"Error\")\n",
        "plt.plot(range_val1, [base_err]*101, label = 'Baseline Error')\n",
        "plt.legend()\n",
        "plt.show()"
      ],
      "execution_count": null,
      "outputs": [
        {
          "output_type": "display_data",
          "data": {
            "image/png": "[encoded data removed]",
            "text/plain": [
              "<Figure size 432x288 with 1 Axes>"
            ]
          },
          "metadata": {
            "tags": []
          }
        },
        {
          "output_type": "display_data",
          "data": {
            "image/png": "[encoded data removed]",
            "text/plain": [
              "<Figure size 432x288 with 1 Axes>"
            ]
          },
          "metadata": {
            "tags": []
          }
        }
      ]
    }
  ]
}